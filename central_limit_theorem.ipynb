{
 "cells": [
  {
   "cell_type": "code",
   "execution_count": 250,
   "metadata": {},
   "outputs": [],
   "source": [
    "import numpy as np\n",
    "import pandas as pd\n",
    "import scipy\n",
    "import matplotlib.pyplot as plt\n",
    "from IPython.display import Math, Latex\n",
    "from IPython.core.display import Image\n",
    "import seaborn as sns\n",
    "sns.set(color_codes=True)\n",
    "sns.set(rc={'figure.figsize':(6,6)})\n",
    "%matplotlib inline"
   ]
  },
  {
   "cell_type": "markdown",
   "metadata": {},
   "source": [
    "Assignments\n",
    "\n",
    "Now that you have some code to create your own populations, sample them, and compare the samples to the populations, it's time to experiment. Using your own Jupyter notebook, or a copy of the notebook above, reproduce the pop1 and pop2 populations and samples using numpy's binomial function. Specifically, create two binomially distributed populations with n equal to 10 and size equal to 10000. The p-value of pop1 should be 0.2 and the p-value of pop2 should be 0.5. Using a sample size of 100, calculate the means and standard deviations of your samples.\n",
    "\n",
    "For each of the following tasks, first write what you expect will happen, then code the changes and observe what does happen. Discuss the results with your mentor.\n",
    "\n",
    "Increase the size of your samples from 100 to 1000, then calculate the means and standard deviations for your new samples and create histograms for each. Repeat this again, decreasing the size of your samples to 20. What values change, and what remain the same?\n",
    "\n",
    "Change the probability value (p in the NumPy documentation) for pop1 to 0.3, then take new samples and compute the t-statistic and p-value. Then change the probability value p for group 1 to 0.4, and do it again. What changes, and why?\n",
    "\n",
    "Change the distribution of your populations from binomial to a distribution of your choice. Do the sample mean values still accurately represent the population values?"
   ]
  },
  {
   "cell_type": "code",
   "execution_count": 251,
   "metadata": {},
   "outputs": [
    {
     "data": {
      "image/png": "[encoded data removed]",
      "text/plain": [
       "<Figure size 432x288 with 1 Axes>"
      ]
     },
     "metadata": {
      "needs_background": "light"
     },
     "output_type": "display_data"
    },
    {
     "name": "stdout",
     "output_type": "stream",
     "text": [
      "[0 1 4 ... 1 1 3]\n",
      "[8 2 5 ... 4 7 3]\n"
     ]
    }
   ],
   "source": [
    "#np.random.binomial(n=(samples or trials), p=(probability of success), size=(numbers of experiments))\n",
    "\n",
    "pop_binomial_1 = np.random.binomial(10, 0.2, 10000)\n",
    "pop_binomial_2 = np.random.binomial(10, 0.5, 10000) \n",
    "\n",
    "# Let’s make histograms for the two groups. \n",
    "\n",
    "plt.hist(pop_binomial_1, alpha=0.4, label='Population 1') \n",
    "plt.hist(pop_binomial_2, alpha=0.4, label='Population 2') \n",
    "plt.legend(loc='upper right') \n",
    "plt.show()\n",
    "\n",
    "print(pop_binomial_1)\n",
    "print(pop_binomial_2)\n",
    "\n",
    "#each result is better read as being out of n. 1010/100, 2508/n, etc..."
   ]
  },
  {
   "cell_type": "code",
   "execution_count": 252,
   "metadata": {},
   "outputs": [
    {
     "data": {
      "image/png": "[encoded data removed]",
      "text/plain": [
       "<Figure size 432x288 with 1 Axes>"
      ]
     },
     "metadata": {
      "needs_background": "light"
     },
     "output_type": "display_data"
    }
   ],
   "source": [
    "sample_binomial_1 = np.random.choice(pop_binomial_1, 100, replace=True)\n",
    "sample_binomial_2 = np.random.choice(pop_binomial_2, 100, replace=True)\n",
    "\n",
    "plt.hist(sample_binomial_1, alpha=0.5, label='sample 1') \n",
    "plt.hist(sample_binomial_2, alpha=0.5, label='sample 2') \n",
    "plt.legend(loc='upper right') \n",
    "plt.show()\n",
    "\n",
    "#print(sample1)\n",
    "#print(sample2)"
   ]
  },
  {
   "cell_type": "markdown",
   "metadata": {},
   "source": [
    "As expected, following the Central Limit Theorem, the distributions apear to be normally distributed."
   ]
  },
  {
   "cell_type": "code",
   "execution_count": 253,
   "metadata": {},
   "outputs": [
    {
     "name": "stdout",
     "output_type": "stream",
     "text": [
      "1.66\n",
      "4.74\n",
      "1.176605286406618\n",
      "1.6408534364774938\n",
      "3.08\n"
     ]
    }
   ],
   "source": [
    "print(sample_binomial_1.mean())\n",
    "print(sample_binomial_2.mean())\n",
    "print(sample_binomial_1.std())\n",
    "print(sample_binomial_2.std())\n",
    "\n",
    "# Compute the difference between the two sample means.\n",
    "diff_binomial=sample_binomial_2.mean( ) -sample_binomial_1.mean()\n",
    "print(diff_binomial)"
   ]
  },
  {
   "cell_type": "markdown",
   "metadata": {},
   "source": [
    "The means od the the sample distributions show the Central Limit theorem at work. \n",
    "The means of the sample distributions are normally distributed."
   ]
  },
  {
   "cell_type": "code",
   "execution_count": 284,
   "metadata": {},
   "outputs": [
    {
     "name": "stdout",
     "output_type": "stream",
     "text": [
      "[100 100]\n",
      "[1.17660529 1.64085344]\n",
      "0.20191087142598343\n",
      "15.254255396193798\n"
     ]
    }
   ],
   "source": [
    "size = np.array([len(sample_binomial_1), len(sample_binomial_2)])\n",
    "sd = np.array([sample_binomial_1.std(), sample_binomial_2.std()])\n",
    "\n",
    "# The squared standard deviations are divided by the sample size and summed, then we take\n",
    "# the square root of the sum. \n",
    "diff_se_binomial = (sum(sd ** 2 / size)) ** 0.5  \n",
    "\n",
    "#The difference between the means divided by the standard error: T-value.  \n",
    "print(size)\n",
    "print(sd)\n",
    "print(diff_se_binomial)\n",
    "print(diff_binomial/diff_se_binomial)"
   ]
  },
  {
   "cell_type": "code",
   "execution_count": 285,
   "metadata": {},
   "outputs": [
    {
     "name": "stdout",
     "output_type": "stream",
     "text": [
      "Ttest_indResult(statistic=15.177792481628696, pvalue=5.177463215925253e-34)\n"
     ]
    }
   ],
   "source": [
    "from scipy.stats import ttest_ind\n",
    "print(ttest_ind(sample_binomial_2, sample_binomial_1, equal_var=False))"
   ]
  },
  {
   "cell_type": "markdown",
   "metadata": {},
   "source": [
    "My example with a normal distribution clearly shows the central limit theorem at work!!!"
   ]
  },
  {
   "cell_type": "code",
   "execution_count": 256,
   "metadata": {},
   "outputs": [
    {
     "data": {
      "image/png": "[encoded data removed]",
      "text/plain": [
       "<Figure size 432x288 with 1 Axes>"
      ]
     },
     "metadata": {
      "needs_background": "light"
     },
     "output_type": "display_data"
    },
    {
     "name": "stdout",
     "output_type": "stream",
     "text": [
      "[9.00207832 9.84661454 8.07014309 ... 9.27287775 7.74889763 9.95453174]\n",
      "[12.00492523  8.69481265 10.16532637 ... 10.6083015   9.73809877\n",
      "  9.87486653]\n"
     ]
    }
   ],
   "source": [
    "#np.random.normal(mu=(mean), sigma=(standard deviation), size=(numbers of experiments))\n",
    "\n",
    "pop_normal_1 = np.random.normal(10, 1, 10000)\n",
    "pop_normal_2 = np.random.normal(10, 1, 10000)\n",
    "\n",
    "plt.hist(pop_normal_1, alpha=0.5, label='Population 1') \n",
    "plt.hist(pop_normal_2, alpha=0.5, label='Population 2') \n",
    "plt.legend(loc='upper right') \n",
    "plt.show()\n",
    "\n",
    "print(pop_normal_1)\n",
    "print(pop_normal_2)"
   ]
  },
  {
   "cell_type": "code",
   "execution_count": 279,
   "metadata": {},
   "outputs": [
    {
     "data": {
      "image/png": "[encoded data removed]",
      "text/plain": [
       "<Figure size 432x288 with 1 Axes>"
      ]
     },
     "metadata": {
      "needs_background": "light"
     },
     "output_type": "display_data"
    }
   ],
   "source": [
    "sample_normal_1 = np.random.choice(pop_normal_1, 20, replace=True)\n",
    "sample_normal_2 = np.random.choice(pop_normal_2, 20, replace=True)\n",
    "\n",
    "plt.hist(sample_normal_1, alpha=0.5, label='sample 1') \n",
    "plt.hist(sample_normal_2, alpha=0.5, label='sample 2') \n",
    "plt.legend(loc='upper right') \n",
    "plt.show()\n",
    "\n",
    "#print(sample_normal_1)\n",
    "#print(sample_normal_2)"
   ]
  },
  {
   "cell_type": "code",
   "execution_count": 280,
   "metadata": {},
   "outputs": [
    {
     "name": "stdout",
     "output_type": "stream",
     "text": [
      "10.219198760488503\n",
      "10.02013716250544\n",
      "0.7162858882682203\n",
      "0.9994189776074675\n",
      "-0.19906159798306255\n"
     ]
    }
   ],
   "source": [
    "print(sample_normal_1.mean())\n",
    "print(sample_normal_2.mean())\n",
    "print(sample_normal_1.std())\n",
    "print(sample_normal_2.std())\n",
    "\n",
    "# Compute the difference between the two sample means.\n",
    "diff_normal=sample_normal_2.mean( ) -sample_normal_1.mean()\n",
    "print(diff_normal)"
   ]
  },
  {
   "cell_type": "code",
   "execution_count": 281,
   "metadata": {},
   "outputs": [
    {
     "name": "stdout",
     "output_type": "stream",
     "text": [
      "[20 20]\n",
      "[0.71628589 0.99941898]\n",
      "0.2749457916148335\n",
      "-0.724003072801799\n"
     ]
    }
   ],
   "source": [
    "size_normal = np.array([len(sample_normal_1), len(sample_normal_2)])\n",
    "sd_normal = np.array([sample_normal_1.std(), sample_normal_2.std()])\n",
    "\n",
    "# The squared standard deviations are divided by the sample size and summed, then we take\n",
    "# the square root of the sum. \n",
    "diff_se_normal = (sum(sd_normal ** 2 / size_normal)) ** 0.5  \n",
    "\n",
    "#The difference between the means divided by the standard error: T-value.  \n",
    "print(size_normal)\n",
    "print(sd_normal)\n",
    "print(diff_se_normal)\n",
    "print(diff_normal/diff_se_normal)"
   ]
  },
  {
   "cell_type": "code",
   "execution_count": 278,
   "metadata": {},
   "outputs": [
    {
     "name": "stdout",
     "output_type": "stream",
     "text": [
      "Ttest_indResult(statistic=-0.11903547793431475, pvalue=0.9059265992460896)\n"
     ]
    }
   ],
   "source": [
    "from scipy.stats import ttest_ind\n",
    "print(ttest_ind(sample_normal_2, sample_normal_1, equal_var=False))"
   ]
  },
  {
   "cell_type": "markdown",
   "metadata": {},
   "source": []
  }
 ],
 "metadata": {
  "kernelspec": {
   "display_name": "Python 3",
   "language": "python",
   "name": "python3"
  },
  "language_info": {
   "codemirror_mode": {
    "name": "ipython",
    "version": 3
   },
   "file_extension": ".py",
   "mimetype": "text/x-python",
   "name": "python",
   "nbconvert_exporter": "python",
   "pygments_lexer": "ipython3",
   "version": "3.6.8"
  }
 },
 "nbformat": 4,
 "nbformat_minor": 2
}
